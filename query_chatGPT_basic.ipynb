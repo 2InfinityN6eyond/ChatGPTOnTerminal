{
 "cells": [
  {
   "cell_type": "code",
   "execution_count": 2,
   "metadata": {},
   "outputs": [],
   "source": [
    "import os\n",
    "import glob\n",
    "import json\n",
    "import time\n",
    "import openai\n",
    "\n",
    "from query_openai import queryQuestions\n",
    "\n",
    "# openAI API key를 이 파일에 저장하세요.\n",
    "# [KEY1, KEY2, ... ] 와 같은 형식으로 저장하세요.\n",
    "# 여기서는 1개의 키만 사용합니다.\n",
    "OPENAI_API_KEY_FILE_PATH = \"./openai_api_keys.json\"\n",
    "\n",
    "# chatGPT 모델 이름을 선택하세요\n",
    "# https://platform.openai.com/docs/models/overview\n",
    "GPT_MODEL_NAME = \"gpt-4\"\n",
    "\n",
    "# read openAI API key\n",
    "with open(OPENAI_API_KEY_FILE_PATH, \"r\") as fp :\n",
    "    openai_api_key = json.load(fp)[0]\n",
    "    # openai API 키 인증\n",
    "    openai.api_key = openai_api_key"
   ]
  },
  {
   "cell_type": "code",
   "execution_count": null,
   "metadata": {},
   "outputs": [],
   "source": [
    "while True :\n",
    "    question = input(\"Enter question (q to quit) : \")\n",
    "    if question in [\"Q\", \"q\"] :\n",
    "        break\n",
    "\n",
    "    # openAI API 호출\n",
    "    messages = [{\n",
    "        \"role\" : \"user\", \n",
    "        \"content\" : question\n",
    "    }]\n",
    "    response = openai.ChatCompletion.create(model=GPT_MODEL_NAME, messages=messages)\n",
    "    resp_content = response['choices'][0]['message']['content']\n",
    "    print(\">>\")\n",
    "    print(resp_content)\n",
    "    print(\"-------------------------------\")\n"
   ]
  }
 ],
 "metadata": {
  "kernelspec": {
   "display_name": "base",
   "language": "python",
   "name": "python3"
  },
  "language_info": {
   "codemirror_mode": {
    "name": "ipython",
    "version": 3
   },
   "file_extension": ".py",
   "mimetype": "text/x-python",
   "name": "python",
   "nbconvert_exporter": "python",
   "pygments_lexer": "ipython3",
   "version": "3.10.9"
  },
  "orig_nbformat": 4
 },
 "nbformat": 4,
 "nbformat_minor": 2
}
